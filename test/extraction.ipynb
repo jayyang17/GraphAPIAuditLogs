{
 "cells": [
  {
   "cell_type": "code",
   "execution_count": 1,
   "metadata": {},
   "outputs": [],
   "source": [
    "import os\n",
    "import webbrowser\n",
    "import msal\n",
    "from msal import PublicClientApplication, ConfidentialClientApplication\n",
    "import requests\n",
    "import os\n",
    "import json\n",
    "import ast\n",
    "import pandas as pd\n",
    "import shutil\n",
    "import base64\n",
    "import datetime\n",
    "import traceback\n",
    "from collections import Counter\n",
    "import matplotlib.pyplot as plt\n"
   ]
  },
  {
   "cell_type": "code",
   "execution_count": 2,
   "metadata": {},
   "outputs": [
    {
     "data": {
      "text/plain": [
       "'c:\\\\Users\\\\lee_jayyang\\\\PythonProjects\\\\email_license\\\\test'"
      ]
     },
     "execution_count": 2,
     "metadata": {},
     "output_type": "execute_result"
    }
   ],
   "source": [
    "%pwd"
   ]
  },
  {
   "cell_type": "code",
   "execution_count": 3,
   "metadata": {},
   "outputs": [
    {
     "data": {
      "text/plain": [
       "'c:\\\\Users\\\\lee_jayyang\\\\PythonProjects\\\\email_license'"
      ]
     },
     "execution_count": 3,
     "metadata": {},
     "output_type": "execute_result"
    }
   ],
   "source": [
    "os.chdir(\"../\")\n",
    "%pwd"
   ]
  },
  {
   "cell_type": "code",
   "execution_count": 4,
   "metadata": {},
   "outputs": [],
   "source": [
    "# first get the credentials from config\n",
    "from src.email_license.constants import *\n",
    "from src.email_license.utils.common import read_yaml\n",
    "from src.email_license.config.configuration import ConfigurationManager\n",
    "from src.email_license import logger"
   ]
  },
  {
   "cell_type": "code",
   "execution_count": 5,
   "metadata": {},
   "outputs": [
    {
     "name": "stdout",
     "output_type": "stream",
     "text": [
      "[2024-12-03 15:29:54,428: INFO: common yaml file: config\\config.yaml loaded succesfully]\n"
     ]
    }
   ],
   "source": [
    "config = ConfigurationManager()\n",
    "api_config = config.get_api_config()\n",
    "CLIENT_ID = api_config.client_id\n",
    "CLIENT_SECRET = api_config.client_secret\n",
    "TENANT_ID = api_config.tenant_id\n",
    "base_url = api_config.endpoint\n",
    "AUTHORITY = f'https://login.microsoftonline.com/{TENANT_ID}'\n",
    "SCOPE = ['https://graph.microsoft.com/.default']\n",
    "\n"
   ]
  },
  {
   "cell_type": "code",
   "execution_count": null,
   "metadata": {},
   "outputs": [],
   "source": [
    "def authenticate_graph_api(clnt_id, clnt_secret, tnt_id):\n",
    "    access_token = None\n",
    "\n",
    "    # default_scope = 'https%3A%2F%2Fgraph.microsoft.com%2F.default'\n",
    "    # grant_type = 'client_credentials'\n",
    "\n",
    "    try:\n",
    "        client_instance = msal.ConfidentialClientApplication(\n",
    "            client_id = clnt_id,\n",
    "            client_credential = clnt_secret,\n",
    "            authority = AUTHORITY,\n",
    "        )\n",
    "\n",
    "        logger.info(\"Create client instance..... Call MSAL library\")\n",
    "\n",
    "        token_response = client_instance.acquire_token_for_client(scopes=SCOPE)\n",
    "\n",
    "        if 'access_token' in token_response:\n",
    "            access_token = token_response['access_token']\n",
    "            return access_token\n",
    "        else:\n",
    "            print(\"Error acquiring token:\", token_response.get(\"error_description\"))\n",
    "    except Exception as e:\n",
    "        logger.info(\"Error during authentication with MS GRAPH API\")\n",
    "\n"
   ]
  },
  {
   "cell_type": "code",
   "execution_count": null,
   "metadata": {},
   "outputs": [],
   "source": [
    "# Fetch audit logs from Graph API\n",
    "def fetch_audit_logs(access_token):\n",
    "    endpoint = f\"{base_url}/auditLogs/signIns\"\n",
    "    headers = {\"Authorization\": f\"Bearer {access_token}\"}\n",
    "    logs = []\n",
    "    \n",
    "    while endpoint:\n",
    "        response = requests.get(endpoint, headers=headers)\n",
    "        if response.status_code == 200:\n",
    "            data = response.json()\n",
    "            logs.extend(data.get(\"value\", []))\n",
    "            endpoint = data.get(\"@odata.nextLink\", None)  # Handle pagination\n",
    "        else:\n",
    "            print(f\"Error fetching audit logs: {response.status_code} {response.text}\")\n",
    "            break\n",
    "    return logs\n"
   ]
  },
  {
   "cell_type": "code",
   "execution_count": null,
   "metadata": {},
   "outputs": [],
   "source": [
    "# Save logs to a CSV file\n",
    "def save_logs_to_csv(logs, output_path):\n",
    "    if logs:\n",
    "        df = pd.DataFrame(logs)\n",
    "        df.to_csv(output_path, index=False)\n",
    "        print(f\"Audit logs saved to {output_path}\")\n",
    "    else:\n",
    "        print(\"No logs available to save.\")\n"
   ]
  },
  {
   "cell_type": "code",
   "execution_count": null,
   "metadata": {},
   "outputs": [
    {
     "name": "stdout",
     "output_type": "stream",
     "text": [
      "[2024-12-03 15:30:43,775: INFO: 1725306364 Error during authentication with MS GRAPH API]\n"
     ]
    }
   ],
   "source": [
    "if __name__==\"__main__\":\n",
    "    authenticate_graph_api(CLIENT_ID, CLIENT_SECRET)\n"
   ]
  },
  {
   "cell_type": "code",
   "execution_count": null,
   "metadata": {},
   "outputs": [],
   "source": []
  }
 ],
 "metadata": {
  "kernelspec": {
   "display_name": "Python 3",
   "language": "python",
   "name": "python3"
  },
  "language_info": {
   "codemirror_mode": {
    "name": "ipython",
    "version": 3
   },
   "file_extension": ".py",
   "mimetype": "text/x-python",
   "name": "python",
   "nbconvert_exporter": "python",
   "pygments_lexer": "ipython3",
   "version": "3.12.7"
  }
 },
 "nbformat": 4,
 "nbformat_minor": 2
}
