{
 "cells": [
  {
   "cell_type": "code",
   "execution_count": 1,
   "metadata": {},
   "outputs": [
    {
     "data": {
      "text/plain": [
       "'c:\\\\Users\\\\lee_jayyang\\\\PythonProjects\\\\email_license\\\\test'"
      ]
     },
     "execution_count": 1,
     "metadata": {},
     "output_type": "execute_result"
    }
   ],
   "source": [
    "import os\n",
    "%pwd"
   ]
  },
  {
   "cell_type": "code",
   "execution_count": 2,
   "metadata": {},
   "outputs": [
    {
     "data": {
      "text/plain": [
       "'c:\\\\Users\\\\lee_jayyang\\\\PythonProjects\\\\email_license'"
      ]
     },
     "execution_count": 2,
     "metadata": {},
     "output_type": "execute_result"
    }
   ],
   "source": [
    "os.chdir(\"../\")\n",
    "%pwd"
   ]
  },
  {
   "cell_type": "code",
   "execution_count": 3,
   "metadata": {},
   "outputs": [],
   "source": [
    "from src.email_license.constants import *\n",
    "from src.email_license.utils.common import read_yaml, write_yaml\n",
    "from src.email_license import logger\n",
    "\n",
    "import os\n",
    "from cryptography.fernet import Fernet\n",
    "from dotenv import load_dotenv\n",
    "import yaml\n",
    "from pathlib import Path"
   ]
  },
  {
   "cell_type": "code",
   "execution_count": 4,
   "metadata": {},
   "outputs": [],
   "source": [
    "from dataclasses import dataclass\n",
    "from pathlib import Path\n",
    "\n",
    "@dataclass\n",
    "class EncryptConfig:\n",
    "    app_secret_key: str"
   ]
  },
  {
   "cell_type": "code",
   "execution_count": null,
   "metadata": {},
   "outputs": [],
   "source": [
    "class ConfigurationManager:\n",
    "    def __init__(self, \n",
    "                 config_filepath = CONFIG_FILE_PATH,\n",
    "                 ):\n",
    "        self.config=read_yaml(config_filepath)\n",
    "    \n",
    "    def get_encrypt_config(self) -> EncryptConfig:\n",
    "        config = self.config[\"encrypt\"]\n",
    "\n",
    "        encrypt_config = EncryptConfig(\n",
    "            app_secret_key=config[\"app_secret_key\"]\n",
    "        )\n",
    "        \n",
    "        return encrypt_config\n",
    "    "
   ]
  },
  {
   "cell_type": "code",
   "execution_count": null,
   "metadata": {},
   "outputs": [
    {
     "name": "stdout",
     "output_type": "stream",
     "text": [
      "[2024-12-03 13:23:55,514: INFO: common yaml file: config\\config.yaml loaded succesfully]\n",
      "[2024-12-03 13:23:55,515: INFO: common yaml file: params.yaml loaded succesfully]\n",
      "v\n",
      "emUViviAr5gwOs-z2IGriGjm75ueFRs4VXMu0ltHsmM=\n",
      "[2024-12-03 13:23:57,039: INFO: common yaml file: config\\config.yaml loaded succesfully]\n",
      "[2024-12-03 13:23:57,041: INFO: common yaml file updated]\n",
      "Password encrypted and YAML file updated successfully.\n"
     ]
    }
   ],
   "source": [
    "try:\n",
    "    # Load environment variables\n",
    "    load_dotenv()\n",
    "\n",
    "    config = ConfigurationManager()\n",
    "\n",
    "    # Retrieve Fernet key from configuration\n",
    "    encrypt_config = config.get_encrypt_config()\n",
    "    encrypt = encrypt_config.app_secret_key\n",
    "    print(encrypt)\n",
    "\n",
    "    # Load the Fernet key\n",
    "    fernet_key = os.getenv(\"FERNET_KEY\")\n",
    "    if not fernet_key:\n",
    "        raise ValueError(\"FERNET_KEY is not set in the environment or .env file.\")\n",
    "    print(fernet_key)\n",
    "    fernet = Fernet(fernet_key.encode())\n",
    "\n",
    "    # Input the password to encrypt\n",
    "    new_password = input(\"Enter the new password: \")\n",
    "    encrypted_password = fernet.encrypt(new_password.encode()).decode()\n",
    "\n",
    "    # Read the existing YAML file\n",
    "    config = read_yaml(CONFIG_FILE_PATH)\n",
    "    if \"encrypt\" not in config:\n",
    "        config[\"encrypt\"] = {}\n",
    "\n",
    "    # Update the YAML file\n",
    "    config[\"graph_api\"][\"client_secret\"] = encrypted_password\n",
    "    write_yaml(config, CONFIG_FILE_PATH)\n",
    "\n",
    "    print(\"Password encrypted and YAML file updated successfully.\")\n",
    "except Exception as e:\n",
    "    print(f\"Error: {e}\")\n"
   ]
  },
  {
   "cell_type": "code",
   "execution_count": null,
   "metadata": {},
   "outputs": [],
   "source": []
  },
  {
   "cell_type": "code",
   "execution_count": null,
   "metadata": {},
   "outputs": [],
   "source": [
    "key = Fernet.generate_key()\n",
    "print(key)\n"
   ]
  },
  {
   "cell_type": "code",
   "execution_count": null,
   "metadata": {},
   "outputs": [],
   "source": []
  }
 ],
 "metadata": {
  "kernelspec": {
   "display_name": "Python 3",
   "language": "python",
   "name": "python3"
  },
  "language_info": {
   "codemirror_mode": {
    "name": "ipython",
    "version": 3
   },
   "file_extension": ".py",
   "mimetype": "text/x-python",
   "name": "python",
   "nbconvert_exporter": "python",
   "pygments_lexer": "ipython3",
   "version": "3.12.7"
  }
 },
 "nbformat": 4,
 "nbformat_minor": 2
}
